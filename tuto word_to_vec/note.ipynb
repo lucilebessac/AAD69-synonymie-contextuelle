Corpus Disponibles
2.1 Friends
— ConvoKit – Friends Corpus
convokit.cornell.edu/documentation/friends.html
Structure de dialogues, identification des locuteurs, épisodes.
— EmotionLines
github.com/HLTCHKUST/EmotionLines
Annotations émotionnelles manuelles (7 classes).
— FriendsPersona
arxiv.org/abs/1911.09304
Description des traits de personnalité des personnages (modèle Big Five).
— Friends Dataset (michellejieli)
huggingface.co/datasets/michellejieli/friends_dataset
Annotations émotionnelles de base pour chaque réplique.
— Friends Sitcom Data Analysis
github.com/harshitsinghai77/friends-sitcom-data-analysis
Scripts + analyse des sentiments (TextBlob), base de données SQLite.
— Screen-time Analysis
hristog.github.io/screen_time_analysis_of_friends_transcripts.html
Analyse temporelle des dialogues et présence des personnages.
2.2 The Big Bang Theory (TBBT)
— TBBT Corpus (GitHub - lgalmant)
github.com/lgalmant/TBBT-corpus
Transcriptions, identification des locuteurs et entités nommées.
— TV-AfD (LREC 2020)
aclanthology.org/2020.lrec-1.805.pdf
Corpus annoté manuellement avec des actes directifs.
— MIntRec 2.0
arxiv.org/abs/2403.10943
Corpus multimodal annoté avec 30 classes d’intentions communicatives.
5
— TBBT JSON (GitHub Gist)
gist.github.com/...
Métadonnées structurées par saison et épisode.
...
6
