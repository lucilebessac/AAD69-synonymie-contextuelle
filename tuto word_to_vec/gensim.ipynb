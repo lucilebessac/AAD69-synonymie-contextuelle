{
 "cells": [
  {
   "cell_type": "markdown",
   "id": "141340d1-7c46-439e-9bde-47bbe71f0726",
   "metadata": {},
   "source": [
    "Installation et import des bibliothéques"
   ]
  },
  {
   "cell_type": "code",
   "execution_count": 1,
   "id": "ffc993cf-3242-4d2b-aec9-9f261ee7d298",
   "metadata": {},
   "outputs": [
    {
     "name": "stdout",
     "output_type": "stream",
     "text": [
      "Defaulting to user installation because normal site-packages is not writeable\n",
      "Requirement already satisfied: gensim in /home/lydia/.local/lib/python3.11/site-packages (4.3.3)\n",
      "Requirement already satisfied: nltk in /home/lydia/.local/lib/python3.11/site-packages (3.9.1)\n",
      "Requirement already satisfied: numpy<2.0,>=1.18.5 in /home/lydia/.local/lib/python3.11/site-packages (from gensim) (1.26.4)\n",
      "Requirement already satisfied: scipy<1.14.0,>=1.7.0 in /home/lydia/.local/lib/python3.11/site-packages (from gensim) (1.13.1)\n",
      "Requirement already satisfied: smart-open>=1.8.1 in /home/lydia/.local/lib/python3.11/site-packages (from gensim) (7.1.0)\n",
      "Requirement already satisfied: click in /usr/lib/python3/dist-packages (from nltk) (8.1.3)\n",
      "Requirement already satisfied: joblib in /home/lydia/.local/lib/python3.11/site-packages (from nltk) (1.5.0)\n",
      "Requirement already satisfied: regex>=2021.8.3 in /home/lydia/.local/lib/python3.11/site-packages (from nltk) (2024.11.6)\n",
      "Requirement already satisfied: tqdm in /home/lydia/.local/lib/python3.11/site-packages (from nltk) (4.67.1)\n",
      "Requirement already satisfied: wrapt in /home/lydia/.local/lib/python3.11/site-packages (from smart-open>=1.8.1->gensim) (1.17.2)\n"
     ]
    }
   ],
   "source": [
    "!pip install --break-system-packages gensim nltk\n"
   ]
  },
  {
   "cell_type": "code",
   "execution_count": 2,
   "id": "475ebdd9-0ae2-4953-9900-80bbef05a3e7",
   "metadata": {},
   "outputs": [],
   "source": [
    "\n",
    "import pandas as pd\n",
    "import re\n",
    "import spacy\n",
    "from time import time\n",
    "import nltk\n",
    "from nltk.data import find\n",
    "from nltk.corpus import stopwords\n",
    "from nltk.tokenize import word_tokenize\n"
   ]
  },
  {
   "cell_type": "code",
   "execution_count": 3,
   "id": "420c0385-88cf-4aa6-a2c7-44000dc4e661",
   "metadata": {},
   "outputs": [
    {
     "name": "stdout",
     "output_type": "stream",
     "text": [
      "/home/lydia/Desktop/tuto word_to_vec/.venv/bin/python\n"
     ]
    }
   ],
   "source": [
    "import sys\n",
    "print(sys.executable)"
   ]
  },
  {
   "cell_type": "markdown",
   "id": "7c0881a3-eb0f-48ea-afad-906c2a672dde",
   "metadata": {},
   "source": [
    "Téléchargement des ressources nltk"
   ]
  },
  {
   "cell_type": "code",
   "execution_count": 4,
   "id": "93451d87-cb28-4b7a-830f-b8c3b4603414",
   "metadata": {},
   "outputs": [
    {
     "name": "stderr",
     "output_type": "stream",
     "text": [
      "[nltk_data] Downloading package punkt to /home/lydia/nltk_data...\n",
      "[nltk_data]   Package punkt is already up-to-date!\n",
      "[nltk_data] Downloading package word2vec_sample to\n",
      "[nltk_data]     /home/lydia/nltk_data...\n",
      "[nltk_data]   Package word2vec_sample is already up-to-date!\n"
     ]
    },
    {
     "data": {
      "text/plain": [
       "True"
      ]
     },
     "execution_count": 4,
     "metadata": {},
     "output_type": "execute_result"
    }
   ],
   "source": [
    "import nltk\n",
    "nltk.download('punkt')\n",
    "nltk.download('word2vec_sample')"
   ]
  },
  {
   "cell_type": "markdown",
   "id": "a0f76282-411d-4d94-bdd7-691fb9125fe4",
   "metadata": {},
   "source": [
    "Chargement des données"
   ]
  },
  {
   "cell_type": "code",
   "execution_count": 5,
   "id": "dd8ac522-038f-4ba5-8005-96e3b6c6eac9",
   "metadata": {},
   "outputs": [
    {
     "data": {
      "text/html": [
       "<div>\n",
       "<style scoped>\n",
       "    .dataframe tbody tr th:only-of-type {\n",
       "        vertical-align: middle;\n",
       "    }\n",
       "\n",
       "    .dataframe tbody tr th {\n",
       "        vertical-align: top;\n",
       "    }\n",
       "\n",
       "    .dataframe thead th {\n",
       "        text-align: right;\n",
       "    }\n",
       "</style>\n",
       "<table border=\"1\" class=\"dataframe\">\n",
       "  <thead>\n",
       "    <tr style=\"text-align: right;\">\n",
       "      <th></th>\n",
       "      <th>raw_character_text</th>\n",
       "      <th>spoken_words</th>\n",
       "    </tr>\n",
       "  </thead>\n",
       "  <tbody>\n",
       "    <tr>\n",
       "      <th>0</th>\n",
       "      <td>Miss Hoover</td>\n",
       "      <td>No, actually, it was a little of both. Sometim...</td>\n",
       "    </tr>\n",
       "    <tr>\n",
       "      <th>1</th>\n",
       "      <td>Lisa Simpson</td>\n",
       "      <td>Where's Mr. Bergstrom?</td>\n",
       "    </tr>\n",
       "    <tr>\n",
       "      <th>2</th>\n",
       "      <td>Miss Hoover</td>\n",
       "      <td>I don't know. Although I'd sure like to talk t...</td>\n",
       "    </tr>\n",
       "    <tr>\n",
       "      <th>3</th>\n",
       "      <td>Lisa Simpson</td>\n",
       "      <td>That life is worth living.</td>\n",
       "    </tr>\n",
       "    <tr>\n",
       "      <th>4</th>\n",
       "      <td>Edna Krabappel-Flanders</td>\n",
       "      <td>The polls will be open from now until the end ...</td>\n",
       "    </tr>\n",
       "  </tbody>\n",
       "</table>\n",
       "</div>"
      ],
      "text/plain": [
       "        raw_character_text                                       spoken_words\n",
       "0              Miss Hoover  No, actually, it was a little of both. Sometim...\n",
       "1             Lisa Simpson                             Where's Mr. Bergstrom?\n",
       "2              Miss Hoover  I don't know. Although I'd sure like to talk t...\n",
       "3             Lisa Simpson                         That life is worth living.\n",
       "4  Edna Krabappel-Flanders  The polls will be open from now until the end ..."
      ]
     },
     "execution_count": 5,
     "metadata": {},
     "output_type": "execute_result"
    }
   ],
   "source": [
    "import pandas as pd\n",
    "# Charge le fichier nécessaire (adapte le chemin si besoin)\n",
    "df = pd.read_csv(\"simpsons_script_lines.csv\",low_memory=False)\n",
    "\n",
    "# Garde uniquement les colonnes utiles\n",
    "df = df[[\"raw_character_text\", \"spoken_words\"]]\n",
    "\n",
    "# Supprime les lignes vides\n",
    "df.dropna(inplace=True)\n",
    "\n",
    "# Affiche un aperçu\n",
    "df.head()\n"
   ]
  },
  {
   "cell_type": "code",
   "execution_count": 6,
   "id": "74854581-59f8-494f-a7da-83e05d0d2f6f",
   "metadata": {},
   "outputs": [
    {
     "data": {
      "text/html": [
       "<div>\n",
       "<style scoped>\n",
       "    .dataframe tbody tr th:only-of-type {\n",
       "        vertical-align: middle;\n",
       "    }\n",
       "\n",
       "    .dataframe tbody tr th {\n",
       "        vertical-align: top;\n",
       "    }\n",
       "\n",
       "    .dataframe thead th {\n",
       "        text-align: right;\n",
       "    }\n",
       "</style>\n",
       "<table border=\"1\" class=\"dataframe\">\n",
       "  <thead>\n",
       "    <tr style=\"text-align: right;\">\n",
       "      <th></th>\n",
       "      <th>raw_character_text</th>\n",
       "      <th>spoken_words</th>\n",
       "    </tr>\n",
       "  </thead>\n",
       "  <tbody>\n",
       "    <tr>\n",
       "      <th>0</th>\n",
       "      <td>Miss Hoover</td>\n",
       "      <td>No, actually, it was a little of both. Sometim...</td>\n",
       "    </tr>\n",
       "    <tr>\n",
       "      <th>1</th>\n",
       "      <td>Lisa Simpson</td>\n",
       "      <td>Where's Mr. Bergstrom?</td>\n",
       "    </tr>\n",
       "    <tr>\n",
       "      <th>2</th>\n",
       "      <td>Miss Hoover</td>\n",
       "      <td>I don't know. Although I'd sure like to talk t...</td>\n",
       "    </tr>\n",
       "    <tr>\n",
       "      <th>3</th>\n",
       "      <td>Lisa Simpson</td>\n",
       "      <td>That life is worth living.</td>\n",
       "    </tr>\n",
       "    <tr>\n",
       "      <th>4</th>\n",
       "      <td>Edna Krabappel-Flanders</td>\n",
       "      <td>The polls will be open from now until the end ...</td>\n",
       "    </tr>\n",
       "  </tbody>\n",
       "</table>\n",
       "</div>"
      ],
      "text/plain": [
       "        raw_character_text                                       spoken_words\n",
       "0              Miss Hoover  No, actually, it was a little of both. Sometim...\n",
       "1             Lisa Simpson                             Where's Mr. Bergstrom?\n",
       "2              Miss Hoover  I don't know. Although I'd sure like to talk t...\n",
       "3             Lisa Simpson                         That life is worth living.\n",
       "4  Edna Krabappel-Flanders  The polls will be open from now until the end ..."
      ]
     },
     "execution_count": 6,
     "metadata": {},
     "output_type": "execute_result"
    }
   ],
   "source": [
    "df.head()"
   ]
  },
  {
   "cell_type": "code",
   "execution_count": 7,
   "id": "7f00331f-031c-4da0-8852-a2d774503780",
   "metadata": {},
   "outputs": [],
   "source": [
    "\n",
    "import spacy\n",
    "\n",
    "\n",
    "# Utilise le modèle léger de spaCy sans le parser ni la reconnaissance d'entités\n",
    "nlp = spacy.load(\"en_core_web_sm\", disable=[\"parser\", \"ner\"])\n",
    "\n"
   ]
  },
  {
   "cell_type": "markdown",
   "id": "7693af78-a47d-4768-826a-2eaa11791c80",
   "metadata": {},
   "source": [
    "Fonction de nettoyage linguistique"
   ]
  },
  {
   "cell_type": "code",
   "execution_count": 8,
   "id": "353a76bc-48bd-4360-8d45-2b10f2e2ce7e",
   "metadata": {},
   "outputs": [],
   "source": [
    "def cleaning(doc):\n",
    "    # Lemmatisation + suppression des stopwords\n",
    "    txt = [token.lemma_ for token in doc if not token.is_stop]\n",
    "    return ' '.join(txt) if len(txt) > 2 else None\n"
   ]
  },
  {
   "cell_type": "code",
   "execution_count": null,
   "id": "6be8a6f4-be57-436b-81b5-46eb4513c900",
   "metadata": {},
   "outputs": [],
   "source": []
  },
  {
   "cell_type": "code",
   "execution_count": 9,
   "id": "e8367f1b-8506-4639-aaa1-07edd62fa1fe",
   "metadata": {},
   "outputs": [],
   "source": [
    "import re\n",
    "\n",
    "brief_cleaning = (re.sub(\"[^A-Za-z']+\", ' ', str(row)).lower() for row in df[\"spoken_words\"])\n",
    "brief_cleaning = list(brief_cleaning)  # Important !\n"
   ]
  },
  {
   "cell_type": "markdown",
   "id": "7b149950-38cc-4ce9-9d0f-adadfa66b7b4",
   "metadata": {},
   "source": [
    "Vérifier la sortie"
   ]
  },
  {
   "cell_type": "code",
   "execution_count": 10,
   "id": "2197741d-c9d1-42ba-9280-2282093d8217",
   "metadata": {},
   "outputs": [
    {
     "name": "stdout",
     "output_type": "stream",
     "text": [
      "132110\n",
      "[\"no actually it was a little of both sometimes when a disease is in all the magazines and all the news shows it's only natural that you think you have it \", \"where's mr bergstrom \", \"i don't know although i'd sure like to talk to him he didn't touch my lesson plan what did he teach you \", 'that life is worth living ', \"the polls will be open from now until the end of recess now just in case any of you have decided to put any thought into this we'll have our final statements martin \"]\n"
     ]
    }
   ],
   "source": [
    "print(len(brief_cleaning))\n",
    "print(brief_cleaning[:5])\n"
   ]
  },
  {
   "cell_type": "markdown",
   "id": "15df7bc6-6b14-4e2a-8203-30745937bf4e",
   "metadata": {},
   "source": [
    "Découpage en lots de taille fixe"
   ]
  },
  {
   "cell_type": "code",
   "execution_count": 15,
   "id": "26f8ff85-6ab7-44a1-a79b-fb1cf4bdc957",
   "metadata": {},
   "outputs": [
    {
     "name": "stdout",
     "output_type": "stream",
     "text": [
      "✅ Nettoyage terminé en 0.93 minutes\n"
     ]
    }
   ],
   "source": [
    "from time import time\n",
    "\n",
    "t = time()\n",
    "\n",
    "# Traitement par lot avec n_process=1 (équivalent à l’ancien n_threads)\n",
    "txt = [cleaning(doc) for doc in nlp.pipe(brief_cleaning, batch_size=5000, n_process=1)]\n",
    "\n",
    "print(\"✅ Nettoyage terminé en\", round((time() - t) / 60, 2), \"minutes\")\n",
    "\n"
   ]
  },
  {
   "cell_type": "markdown",
   "id": "ff6edb22-a91f-4262-8103-2d926e3f4230",
   "metadata": {},
   "source": [
    "Application du nettoyage  par lot pour éviter le crash"
   ]
  },
  {
   "cell_type": "markdown",
   "id": "18f0d49a-9e2f-41fd-a6c5-219a3897ec80",
   "metadata": {},
   "source": [
    "Mettre le résultat dans un dataframe"
   ]
  },
  {
   "cell_type": "code",
   "execution_count": 16,
   "id": "9288b803-3581-419a-81fe-4802daf50f3d",
   "metadata": {},
   "outputs": [
    {
     "data": {
      "text/plain": [
       "(86207, 1)"
      ]
     },
     "execution_count": 16,
     "metadata": {},
     "output_type": "execute_result"
    }
   ],
   "source": [
    "df_clean = pd.DataFrame({'clean': txt})\n",
    "df_clean = df_clean.dropna().drop_duplicates()\n",
    "df_clean.shape\n"
   ]
  },
  {
   "cell_type": "markdown",
   "id": "7bb763ec-744f-4052-a03f-cd5edb826f44",
   "metadata": {},
   "source": [
    "BIGRAMS"
   ]
  },
  {
   "cell_type": "code",
   "execution_count": 24,
   "id": "e1473523-acd2-4cb2-ab18-35a43151f360",
   "metadata": {},
   "outputs": [],
   "source": [
    "from gensim.models.phrases import Phrases, Phraser"
   ]
  },
  {
   "cell_type": "markdown",
   "id": "43dbad1b-27f0-4be3-af2a-a380506d4ef7",
   "metadata": {},
   "source": []
  },
  {
   "cell_type": "code",
   "execution_count": 28,
   "id": "ef742d38-7801-4ce5-b8e2-83c2c0658247",
   "metadata": {},
   "outputs": [],
   "source": [
    "sent = [row.split() for row in df_clean['clean']]  # Tokenisation simple\n",
    "phrases = Phrases(sent, min_count=5, threshold=10)\n",
    "bigram = Phraser(phrases)\n"
   ]
  },
  {
   "cell_type": "markdown",
   "id": "a3ef53f3-ebde-4ba6-8e5b-e9f129e30f91",
   "metadata": {},
   "source": [
    "Appliquer le modèle"
   ]
  },
  {
   "cell_type": "code",
   "execution_count": 31,
   "id": "4ca2dc3b-4bc1-49a2-880a-93eac0f9e5ab",
   "metadata": {},
   "outputs": [],
   "source": [
    "sentences = bigram[sent]"
   ]
  },
  {
   "cell_type": "markdown",
   "id": "d74bd62d-1da2-4118-87d4-017071032d9c",
   "metadata": {},
   "source": [
    "Mots plus fréquents"
   ]
  },
  {
   "cell_type": "code",
   "execution_count": 34,
   "id": "305f8a5b-88d6-4dc6-9616-644f3337c189",
   "metadata": {},
   "outputs": [
    {
     "name": "stderr",
     "output_type": "stream",
     "text": [
      "Exception ignored in: <function tqdm.__del__ at 0x7fa120a9fa60>\n",
      "Traceback (most recent call last):\n",
      "  File \"/home/lydia/Desktop/tuto word_to_vec/.venv/lib/python3.11/site-packages/tqdm/std.py\", line 1148, in __del__\n",
      "    self.close()\n",
      "  File \"/home/lydia/Desktop/tuto word_to_vec/.venv/lib/python3.11/site-packages/tqdm/notebook.py\", line 282, in close\n",
      "    self.disp(bar_style='success', check_delay=False)\n",
      "    ^^^^^^^^^\n",
      "AttributeError: 'tqdm_notebook' object has no attribute 'disp'\n"
     ]
    },
    {
     "name": "stdout",
     "output_type": "stream",
     "text": [
      "[['actually', 'little', 'disease', 'magazine', 'news', 'show', 'natural', 'think'], ['know', 'sure', 'like', 'talk', 'touch', 'lesson', 'plan', 'teach'], ['life', 'worth', 'live'], ['poll', 'open', 'end', 'recess', 'case', 'decide', 'thought', 'final', 'statement', 'martin'], ['victory', 'party', 'slide']]\n"
     ]
    }
   ],
   "source": [
    "print(list(sentences)[:5])\n"
   ]
  },
  {
   "cell_type": "markdown",
   "id": "2e4d58bd-baa7-4299-b465-e0e2fff8829b",
   "metadata": {},
   "source": [
    "Calculer les mots uniques"
   ]
  },
  {
   "cell_type": "code",
   "execution_count": 35,
   "id": "2fe4a020-4108-4863-8d95-ec6e175162aa",
   "metadata": {},
   "outputs": [
    {
     "name": "stdout",
     "output_type": "stream",
     "text": [
      "Nombre total de mots uniques : 31032\n"
     ]
    }
   ],
   "source": [
    "from collections import defaultdict\n",
    "\n",
    "# Dictionnaire pour stocker la fréquence de chaque mot\n",
    "word_freq = defaultdict(int)\n",
    "\n",
    "# Remplir le dictionnaire avec les fréquences\n",
    "for sent in sentences:\n",
    "    for word in sent:\n",
    "        word_freq[word] += 1\n",
    "\n",
    "# Affichage du nombre de mots uniques\n",
    "print(\"Nombre total de mots uniques :\", len(word_freq))\n"
   ]
  },
  {
   "cell_type": "markdown",
   "id": "5b4aadd9-2d0f-43bd-bfd4-289c621e05f1",
   "metadata": {},
   "source": [
    "Afficher les mots les plus fréquents"
   ]
  },
  {
   "cell_type": "code",
   "execution_count": 36,
   "id": "5b5ab0d5-5aa1-434c-9186-c6283a076839",
   "metadata": {},
   "outputs": [
    {
     "data": {
      "text/plain": [
       "[('oh', 6456),\n",
       " ('like', 5569),\n",
       " ('know', 4837),\n",
       " ('get', 4207),\n",
       " ('think', 3607),\n",
       " ('hey', 3595),\n",
       " ('come', 3591),\n",
       " ('right', 3425),\n",
       " ('look', 3361),\n",
       " ('want', 3189)]"
      ]
     },
     "execution_count": 36,
     "metadata": {},
     "output_type": "execute_result"
    }
   ],
   "source": [
    "# Affichage des 10 mots les plus fréquents\n",
    "sorted(word_freq.items(), key=lambda x: x[1], reverse=True)[:10]\n"
   ]
  },
  {
   "cell_type": "markdown",
   "id": "bdeb70be-5fc1-4b56-b386-7b87028bcd90",
   "metadata": {},
   "source": [
    "Entraînement du modèle Word2vec"
   ]
  },
  {
   "cell_type": "markdown",
   "id": "c9c1978c-03dd-4922-a95f-dbe98d528333",
   "metadata": {},
   "source": [
    "Implementation Gensim Word2vec"
   ]
  },
  {
   "cell_type": "code",
   "execution_count": 37,
   "id": "c634e996-d17f-4b65-8777-e08029882981",
   "metadata": {},
   "outputs": [],
   "source": [
    "import multiprocessing\n",
    "\n",
    "from gensim.models import Word2Vec"
   ]
  },
  {
   "cell_type": "markdown",
   "id": "87a8f8d5-ce0d-4eb7-a65b-afb68baca820",
   "metadata": {},
   "source": [
    "Conter le nombre de cores in a computer\n"
   ]
  },
  {
   "cell_type": "code",
   "execution_count": 39,
   "id": "ac1fd6dd-18d0-43a4-87d4-9eab1ecbbec4",
   "metadata": {},
   "outputs": [],
   "source": [
    "cores = multiprocessing.cpu_count() # Count the number of cores in a computer"
   ]
  },
  {
   "cell_type": "markdown",
   "id": "39c0eda2-99a5-4a38-8703-dd75cec866b3",
   "metadata": {},
   "source": [
    "Entraîner le modèle"
   ]
  },
  {
   "cell_type": "code",
   "execution_count": 40,
   "id": "49e3656e-fad5-4112-8e13-4bc21322c6c1",
   "metadata": {},
   "outputs": [
    {
     "name": "stdout",
     "output_type": "stream",
     "text": [
      "✅ Entraînement terminé.\n"
     ]
    }
   ],
   "source": [
    "# Entraîner le modèle Word2Vec\n",
    "w2v_model = Word2Vec(\n",
    "    sentences=sentences,      # Les phrases tokenisées avec bigrammes\n",
    "    vector_size=100,          # Taille des vecteurs de mots\n",
    "    window=5,                 # Fenêtre de contexte\n",
    "    min_count=5,              # Fréquence minimale pour considérer un mot\n",
    "    workers=cores - 1         # Nombre de threads parallèles\n",
    ")\n",
    "\n",
    "print(\"✅ Entraînement terminé.\")"
   ]
  },
  {
   "cell_type": "markdown",
   "id": "53e672ab-7cf5-499b-a51f-5dbbece95680",
   "metadata": {},
   "source": [
    "Building the Vocabulary Table"
   ]
  },
  {
   "cell_type": "code",
   "execution_count": 41,
   "id": "0cdf2f71-0a53-4b9c-9b12-cd5bbd331bc9",
   "metadata": {},
   "outputs": [
    {
     "name": "stdout",
     "output_type": "stream",
     "text": [
      "⏱️ Temps de construction du vocabulaire : 0.01 minutes\n"
     ]
    }
   ],
   "source": [
    "from time import time\n",
    "\n",
    "t = time()\n",
    "\n",
    "# Construction du vocabulaire à partir des phrases\n",
    "w2v_model.build_vocab(sentences, progress_per=10000)\n",
    "\n",
    "print(\"⏱️ Temps de construction du vocabulaire :\", round((time() - t) / 60, 2), \"minutes\")\n"
   ]
  },
  {
   "cell_type": "markdown",
   "id": "4b7dad4d-e11f-4d51-987d-753515249532",
   "metadata": {},
   "source": [
    "Entrainement du modèle"
   ]
  },
  {
   "cell_type": "code",
   "execution_count": 42,
   "id": "1efc7b24-5098-4474-8ab0-ad204aa404d8",
   "metadata": {},
   "outputs": [
    {
     "name": "stdout",
     "output_type": "stream",
     "text": [
      "✅ Modèle entraîné en 0.25 minutes\n"
     ]
    }
   ],
   "source": [
    "t = time()\n",
    "\n",
    "w2v_model.train(sentences, total_examples=w2v_model.corpus_count, epochs=30, report_delay=1)\n",
    "\n",
    "print(\"✅ Modèle entraîné en\", round((time() - t) / 60, 2), \"minutes\")\n"
   ]
  },
  {
   "cell_type": "markdown",
   "id": "bf53f873-6f43-4f1e-8f9b-54c54b2be3a1",
   "metadata": {},
   "source": [
    "Optimisation mémoire du modèle"
   ]
  },
  {
   "cell_type": "code",
   "execution_count": 43,
   "id": "4fd23370-1f57-4a74-bde9-fe55f2c227e9",
   "metadata": {},
   "outputs": [
    {
     "name": "stderr",
     "output_type": "stream",
     "text": [
      "/tmp/ipykernel_11778/1804356488.py:2: DeprecationWarning: Call to deprecated `init_sims` (Gensim 4.0.0 implemented internal optimizations that make calls to init_sims() unnecessary. init_sims() is now obsoleted and will be completely removed in future versions. See https://github.com/RaRe-Technologies/gensim/wiki/Migrating-from-Gensim-3.x-to-4).\n",
      "  w2v_model.init_sims(replace=True)\n"
     ]
    }
   ],
   "source": [
    "# Rendre le modèle plus léger si on ne compte plus l'entraîner\n",
    "w2v_model.init_sims(replace=True)"
   ]
  },
  {
   "cell_type": "markdown",
   "id": "b0a9fe76-b094-4c7b-bfcd-2fd8e88c382e",
   "metadata": {},
   "source": [
    "Explorer le modèle"
   ]
  },
  {
   "cell_type": "markdown",
   "id": "841706d5-540b-4ac0-923f-21e5beca95ce",
   "metadata": {},
   "source": [
    "la similarité : cherche les mots les plus similaires à celui qu'on précise, là c'est \"homer\""
   ]
  },
  {
   "cell_type": "code",
   "execution_count": 44,
   "id": "88f00e8c-b1c4-4364-81af-5c42ee542d60",
   "metadata": {},
   "outputs": [
    {
     "data": {
      "text/plain": [
       "[('marge', 0.5217604637145996),\n",
       " ('husband', 0.48310333490371704),\n",
       " ('lenny', 0.4823387861251831),\n",
       " ('moe', 0.43817466497421265),\n",
       " ('homie', 0.4354267120361328),\n",
       " ('save_marriage', 0.42275261878967285),\n",
       " ('barney', 0.4150422215461731),\n",
       " ('mr_burn', 0.40339040756225586),\n",
       " ('patty_selma', 0.39784079790115356),\n",
       " ('mom_dad', 0.3956584632396698)]"
      ]
     },
     "execution_count": 44,
     "metadata": {},
     "output_type": "execute_result"
    }
   ],
   "source": [
    "w2v_model.wv.most_similar(positive=[\"homer\"])"
   ]
  },
  {
   "cell_type": "code",
   "execution_count": null,
   "id": "9e170171-be7f-45ee-b718-b74be727681b",
   "metadata": {},
   "outputs": [],
   "source": []
  },
  {
   "cell_type": "code",
   "execution_count": 45,
   "id": "065eb6ce-3864-4734-969f-5ef7c29741d3",
   "metadata": {},
   "outputs": [
    {
     "data": {
      "text/plain": [
       "[('karen', 0.48125529289245605),\n",
       " ('shocking', 0.44914329051971436),\n",
       " ('initiate', 0.4475806951522827),\n",
       " ('montgomery_burn', 0.43406200408935547),\n",
       " ('simpson', 0.43264663219451904),\n",
       " ('sector_g', 0.42823195457458496),\n",
       " ('connor', 0.4272750914096832),\n",
       " ('attempt', 0.42550399899482727),\n",
       " ('concern', 0.4120101034641266),\n",
       " ('arrest_murder', 0.4077410101890564)]"
      ]
     },
     "execution_count": 45,
     "metadata": {},
     "output_type": "execute_result"
    }
   ],
   "source": [
    "w2v_model.wv.most_similar(positive=[\"homer_simpson\"])"
   ]
  },
  {
   "cell_type": "code",
   "execution_count": 46,
   "id": "75bec8ed-c46a-4d10-a292-c47bbe9aa41c",
   "metadata": {},
   "outputs": [
    {
     "data": {
      "text/plain": [
       "[('homer', 0.5217604637145996),\n",
       " ('sweetie', 0.4664333760738373),\n",
       " ('husband', 0.4442868232727051),\n",
       " ('eliza', 0.4287366569042206),\n",
       " ('homie', 0.4270162284374237),\n",
       " ('becky', 0.4085848927497864),\n",
       " ('homer_j', 0.3923014998435974),\n",
       " ('family', 0.38779306411743164),\n",
       " ('patty_selma', 0.38585665822029114),\n",
       " ('grampa', 0.3838891088962555)]"
      ]
     },
     "execution_count": 46,
     "metadata": {},
     "output_type": "execute_result"
    }
   ],
   "source": [
    "w2v_model.wv.most_similar(positive=[\"marge\"])"
   ]
  },
  {
   "cell_type": "code",
   "execution_count": 47,
   "id": "b9e15aab-58aa-4a4c-8338-f6dd219ccdba",
   "metadata": {},
   "outputs": [
    {
     "data": {
      "text/plain": [
       "[('lisa', 0.5628084540367126),\n",
       " ('homework', 0.5491763353347778),\n",
       " ('mom_dad', 0.5201276540756226),\n",
       " ('dad', 0.5178887844085693),\n",
       " ('maggie', 0.5159918069839478),\n",
       " ('bart_simpson', 0.4505383372306824),\n",
       " ('milhouse', 0.4409254789352417),\n",
       " ('mrs_krabappel', 0.4370121955871582),\n",
       " ('principal_skinner', 0.4263072609901428),\n",
       " ('daughter', 0.4217320382595062)]"
      ]
     },
     "execution_count": 47,
     "metadata": {},
     "output_type": "execute_result"
    }
   ],
   "source": [
    "w2v_model.wv.most_similar(positive=[\"bart\"])"
   ]
  },
  {
   "cell_type": "markdown",
   "id": "ad892bfc-8779-4f94-8306-879eb03f90c3",
   "metadata": {},
   "source": [
    "Là c'est à quel point les deux mots donnés se ressemblent "
   ]
  },
  {
   "cell_type": "code",
   "execution_count": 49,
   "id": "4ce1b5e0-55eb-4906-ab30-ddafb6e33325",
   "metadata": {},
   "outputs": [
    {
     "data": {
      "text/plain": [
       "0.427708"
      ]
     },
     "execution_count": 49,
     "metadata": {},
     "output_type": "execute_result"
    }
   ],
   "source": [
    "w2v_model.wv.similarity('maggie', 'baby')"
   ]
  },
  {
   "cell_type": "markdown",
   "id": "1b8790b4-7e32-4b7b-9d26-44f5690cffa2",
   "metadata": {},
   "source": [
    "Là comme moe_s n'est pas reconnu, on obtient une erreur, c'est peut être que le modèle ne reconnait pas ce format"
   ]
  },
  {
   "cell_type": "code",
   "execution_count": 50,
   "id": "8f3aa043-323e-4eeb-b6d9-a18d416b0346",
   "metadata": {},
   "outputs": [
    {
     "ename": "KeyError",
     "evalue": "\"Key 'moe_'s' not present\"",
     "output_type": "error",
     "traceback": [
      "\u001b[31m---------------------------------------------------------------------------\u001b[39m",
      "\u001b[31mKeyError\u001b[39m                                  Traceback (most recent call last)",
      "\u001b[36mCell\u001b[39m\u001b[36m \u001b[39m\u001b[32mIn[50]\u001b[39m\u001b[32m, line 1\u001b[39m\n\u001b[32m----> \u001b[39m\u001b[32m1\u001b[39m \u001b[43mw2v_model\u001b[49m\u001b[43m.\u001b[49m\u001b[43mwv\u001b[49m\u001b[43m.\u001b[49m\u001b[43msimilarity\u001b[49m\u001b[43m(\u001b[49m\u001b[33;43m\"\u001b[39;49m\u001b[33;43mmoe_\u001b[39;49m\u001b[33;43m'\u001b[39;49m\u001b[33;43ms\u001b[39;49m\u001b[33;43m\"\u001b[39;49m\u001b[43m,\u001b[49m\u001b[43m \u001b[49m\u001b[33;43m'\u001b[39;49m\u001b[33;43mtavern\u001b[39;49m\u001b[33;43m'\u001b[39;49m\u001b[43m)\u001b[49m\n",
      "\u001b[36mFile \u001b[39m\u001b[32m~/Desktop/tuto word_to_vec/.venv/lib/python3.11/site-packages/gensim/models/keyedvectors.py:1234\u001b[39m, in \u001b[36mKeyedVectors.similarity\u001b[39m\u001b[34m(self, w1, w2)\u001b[39m\n\u001b[32m   1218\u001b[39m \u001b[38;5;28;01mdef\u001b[39;00m\u001b[38;5;250m \u001b[39m\u001b[34msimilarity\u001b[39m(\u001b[38;5;28mself\u001b[39m, w1, w2):\n\u001b[32m   1219\u001b[39m \u001b[38;5;250m    \u001b[39m\u001b[33;03m\"\"\"Compute cosine similarity between two keys.\u001b[39;00m\n\u001b[32m   1220\u001b[39m \n\u001b[32m   1221\u001b[39m \u001b[33;03m    Parameters\u001b[39;00m\n\u001b[32m   (...)\u001b[39m\u001b[32m   1232\u001b[39m \n\u001b[32m   1233\u001b[39m \u001b[33;03m    \"\"\"\u001b[39;00m\n\u001b[32m-> \u001b[39m\u001b[32m1234\u001b[39m     \u001b[38;5;28;01mreturn\u001b[39;00m dot(matutils.unitvec(\u001b[38;5;28;43mself\u001b[39;49m\u001b[43m[\u001b[49m\u001b[43mw1\u001b[49m\u001b[43m]\u001b[49m), matutils.unitvec(\u001b[38;5;28mself\u001b[39m[w2]))\n",
      "\u001b[36mFile \u001b[39m\u001b[32m~/Desktop/tuto word_to_vec/.venv/lib/python3.11/site-packages/gensim/models/keyedvectors.py:403\u001b[39m, in \u001b[36mKeyedVectors.__getitem__\u001b[39m\u001b[34m(self, key_or_keys)\u001b[39m\n\u001b[32m    389\u001b[39m \u001b[38;5;250m\u001b[39m\u001b[33;03m\"\"\"Get vector representation of `key_or_keys`.\u001b[39;00m\n\u001b[32m    390\u001b[39m \n\u001b[32m    391\u001b[39m \u001b[33;03mParameters\u001b[39;00m\n\u001b[32m   (...)\u001b[39m\u001b[32m    400\u001b[39m \n\u001b[32m    401\u001b[39m \u001b[33;03m\"\"\"\u001b[39;00m\n\u001b[32m    402\u001b[39m \u001b[38;5;28;01mif\u001b[39;00m \u001b[38;5;28misinstance\u001b[39m(key_or_keys, _KEY_TYPES):\n\u001b[32m--> \u001b[39m\u001b[32m403\u001b[39m     \u001b[38;5;28;01mreturn\u001b[39;00m \u001b[38;5;28;43mself\u001b[39;49m\u001b[43m.\u001b[49m\u001b[43mget_vector\u001b[49m\u001b[43m(\u001b[49m\u001b[43mkey_or_keys\u001b[49m\u001b[43m)\u001b[49m\n\u001b[32m    405\u001b[39m \u001b[38;5;28;01mreturn\u001b[39;00m vstack([\u001b[38;5;28mself\u001b[39m.get_vector(key) \u001b[38;5;28;01mfor\u001b[39;00m key \u001b[38;5;129;01min\u001b[39;00m key_or_keys])\n",
      "\u001b[36mFile \u001b[39m\u001b[32m~/Desktop/tuto word_to_vec/.venv/lib/python3.11/site-packages/gensim/models/keyedvectors.py:446\u001b[39m, in \u001b[36mKeyedVectors.get_vector\u001b[39m\u001b[34m(self, key, norm)\u001b[39m\n\u001b[32m    422\u001b[39m \u001b[38;5;28;01mdef\u001b[39;00m\u001b[38;5;250m \u001b[39m\u001b[34mget_vector\u001b[39m(\u001b[38;5;28mself\u001b[39m, key, norm=\u001b[38;5;28;01mFalse\u001b[39;00m):\n\u001b[32m    423\u001b[39m \u001b[38;5;250m    \u001b[39m\u001b[33;03m\"\"\"Get the key's vector, as a 1D numpy array.\u001b[39;00m\n\u001b[32m    424\u001b[39m \n\u001b[32m    425\u001b[39m \u001b[33;03m    Parameters\u001b[39;00m\n\u001b[32m   (...)\u001b[39m\u001b[32m    444\u001b[39m \n\u001b[32m    445\u001b[39m \u001b[33;03m    \"\"\"\u001b[39;00m\n\u001b[32m--> \u001b[39m\u001b[32m446\u001b[39m     index = \u001b[38;5;28;43mself\u001b[39;49m\u001b[43m.\u001b[49m\u001b[43mget_index\u001b[49m\u001b[43m(\u001b[49m\u001b[43mkey\u001b[49m\u001b[43m)\u001b[49m\n\u001b[32m    447\u001b[39m     \u001b[38;5;28;01mif\u001b[39;00m norm:\n\u001b[32m    448\u001b[39m         \u001b[38;5;28mself\u001b[39m.fill_norms()\n",
      "\u001b[36mFile \u001b[39m\u001b[32m~/Desktop/tuto word_to_vec/.venv/lib/python3.11/site-packages/gensim/models/keyedvectors.py:420\u001b[39m, in \u001b[36mKeyedVectors.get_index\u001b[39m\u001b[34m(self, key, default)\u001b[39m\n\u001b[32m    418\u001b[39m     \u001b[38;5;28;01mreturn\u001b[39;00m default\n\u001b[32m    419\u001b[39m \u001b[38;5;28;01melse\u001b[39;00m:\n\u001b[32m--> \u001b[39m\u001b[32m420\u001b[39m     \u001b[38;5;28;01mraise\u001b[39;00m \u001b[38;5;167;01mKeyError\u001b[39;00m(\u001b[33mf\u001b[39m\u001b[33m\"\u001b[39m\u001b[33mKey \u001b[39m\u001b[33m'\u001b[39m\u001b[38;5;132;01m{\u001b[39;00mkey\u001b[38;5;132;01m}\u001b[39;00m\u001b[33m'\u001b[39m\u001b[33m not present\u001b[39m\u001b[33m\"\u001b[39m)\n",
      "\u001b[31mKeyError\u001b[39m: \"Key 'moe_'s' not present\""
     ]
    }
   ],
   "source": [
    "w2v_model.wv.similarity(\"moe_'s\", 'tavern')"
   ]
  },
  {
   "cell_type": "markdown",
   "id": "fd349548-58fc-448c-ad0f-e747fbe13adc",
   "metadata": {},
   "source": [
    "Odd-one_out \"l'intrus\": là on demande au modèle de dire qui n'est pas un tyran parmis ces personnages:"
   ]
  },
  {
   "cell_type": "code",
   "execution_count": 51,
   "id": "c984b08d-fd50-43c8-a4b0-b2ed5bb5502f",
   "metadata": {},
   "outputs": [
    {
     "data": {
      "text/plain": [
       "'milhouse'"
      ]
     },
     "execution_count": 51,
     "metadata": {},
     "output_type": "execute_result"
    }
   ],
   "source": [
    "w2v_model.wv.doesnt_match(['jimbo', 'milhouse', 'kearney'])"
   ]
  },
  {
   "cell_type": "markdown",
   "id": "372b3a69-a656-4976-8056-53902bfaba86",
   "metadata": {},
   "source": [
    "Différence d'analogie : \n"
   ]
  },
  {
   "cell_type": "markdown",
   "id": "c2cf3fac-d9e6-4487-8864-09991638301f",
   "metadata": {},
   "source": [
    "Quel mot est à la femme ce qu'Homer est à Marge ?"
   ]
  },
  {
   "cell_type": "code",
   "execution_count": 52,
   "id": "1aaae183-0e54-4a95-91fc-7a06a4a01f90",
   "metadata": {},
   "outputs": [
    {
     "data": {
      "text/plain": [
       "[('ask', 0.4471348524093628),\n",
       " ('man', 0.3855379819869995),\n",
       " ('patty', 0.35988694429397583)]"
      ]
     },
     "execution_count": 52,
     "metadata": {},
     "output_type": "execute_result"
    }
   ],
   "source": [
    "w2v_model.wv.most_similar(positive=[\"woman\", \"homer\"], negative=[\"marge\"], topn=3)"
   ]
  },
  {
   "cell_type": "code",
   "execution_count": null,
   "id": "eebb2d03-9756-4119-97ac-9b38e5e30380",
   "metadata": {},
   "outputs": [],
   "source": [
    "Quel mot est à la femme ce que Bart est à l'homme ?"
   ]
  },
  {
   "cell_type": "code",
   "execution_count": 53,
   "id": "4f99115e-e079-44d3-9e75-7a9abf1b5aab",
   "metadata": {},
   "outputs": [
    {
     "data": {
      "text/plain": [
       "[('principal_skinner', 0.44478797912597656),\n",
       " ('lisa', 0.42721131443977356),\n",
       " ('homework', 0.4219675660133362)]"
      ]
     },
     "execution_count": 53,
     "metadata": {},
     "output_type": "execute_result"
    }
   ],
   "source": [
    "w2v_model.wv.most_similar(positive=[\"woman\", \"bart\"], negative=[\"man\"], topn=3)"
   ]
  },
  {
   "cell_type": "markdown",
   "id": "14313d65-d3be-44f3-94ce-bf60048682ef",
   "metadata": {},
   "source": [
    "t-SNE visualizations:"
   ]
  },
  {
   "cell_type": "markdown",
   "id": "b1ecb9ab-357c-4701-8923-aa612927f7b7",
   "metadata": {},
   "source": [
    "Import des bibliothèques"
   ]
  },
  {
   "cell_type": "code",
   "execution_count": 55,
   "id": "a37ae16c-66ee-4404-9129-b808bdc50ccc",
   "metadata": {},
   "outputs": [],
   "source": [
    "import numpy as np\n",
    "import matplotlib.pyplot as plt\n",
    "%matplotlib inline\n",
    " \n",
    "import seaborn as sns\n",
    "sns.set_style(\"darkgrid\")\n",
    "\n",
    "from sklearn.decomposition import PCA\n",
    "from sklearn.manifold import TSNE"
   ]
  },
  {
   "cell_type": "code",
   "execution_count": 56,
   "id": "7f43116c-c324-4573-8539-7a4417f33b34",
   "metadata": {},
   "outputs": [],
   "source": [
    "def tsnescatterplot(model, word, list_names):\n",
    "    \"\"\" Plot in seaborn the results from the t-SNE dimensionality reduction algorithm of the vectors of a query word,\n",
    "    its list of most similar words, and a list of words.\n",
    "    \"\"\"\n",
    "    arrays = np.empty((0, 300), dtype='f')\n",
    "    word_labels = [word]\n",
    "    color_list  = ['red']\n",
    "\n",
    "    # adds the vector of the query word\n",
    "    arrays = np.append(arrays, model.wv.__getitem__([word]), axis=0)\n",
    "    \n",
    "    # gets list of most similar words\n",
    "    close_words = model.wv.most_similar([word])\n",
    "    \n",
    "    # adds the vector for each of the closest words to the array\n",
    "    for wrd_score in close_words:\n",
    "        wrd_vector = model.wv.__getitem__([wrd_score[0]])\n",
    "        word_labels.append(wrd_score[0])\n",
    "        color_list.append('blue')\n",
    "        arrays = np.append(arrays, wrd_vector, axis=0)\n",
    "    \n",
    "    # adds the vector for each of the words from list_names to the array\n",
    "    for wrd in list_names:\n",
    "        wrd_vector = model.wv.__getitem__([wrd])\n",
    "        word_labels.append(wrd)\n",
    "        color_list.append('green')\n",
    "        arrays = np.append(arrays, wrd_vector, axis=0)\n",
    "        \n",
    "    # Reduces the dimensionality from 300 to 50 dimensions with PCA\n",
    "    reduc = PCA(n_components=50).fit_transform(arrays)\n",
    "    \n",
    "    # Finds t-SNE coordinates for 2 dimensions\n",
    "    np.set_printoptions(suppress=True)\n",
    "    \n",
    "    Y = TSNE(n_components=2, random_state=0, perplexity=15).fit_transform(reduc)\n",
    "    \n",
    "    # Sets everything up to plot\n",
    "    df = pd.DataFrame({'x': [x for x in Y[:, 0]],\n",
    "                       'y': [y for y in Y[:, 1]],\n",
    "                       'words': word_labels,\n",
    "                       'color': color_list})\n",
    "    \n",
    "    fig, _ = plt.subplots()\n",
    "    fig.set_size_inches(9, 9)\n",
    "    \n",
    "    # Basic plot\n",
    "    p1 = sns.regplot(data=df,\n",
    "                     x=\"x\",\n",
    "                     y=\"y\",\n",
    "                     fit_reg=False,\n",
    "                     marker=\"o\",\n",
    "                     scatter_kws={'s': 40,\n",
    "                                  'facecolors': df['color']\n",
    "                                 }\n",
    "                    )\n",
    "    \n",
    "    # Adds annotations one by one with a loop\n",
    "    for line in range(0, df.shape[0]):\n",
    "         p1.text(df[\"x\"][line],\n",
    "                 df['y'][line],\n",
    "                 '  ' + df[\"words\"][line].title(),\n",
    "                 horizontalalignment='left',\n",
    "                 verticalalignment='bottom', size='medium',\n",
    "                 color=df['color'][line],\n",
    "                 weight='normal'\n",
    "                ).set_size(15)\n",
    "\n",
    "    \n",
    "    plt.xlim(Y[:, 0].min()-50, Y[:, 0].max()+50)\n",
    "    plt.ylim(Y[:, 1].min()-50, Y[:, 1].max()+50)\n",
    "            \n",
    "    plt.title('t-SNE visualization for {}'.format(word.title()))"
   ]
  },
  {
   "cell_type": "code",
   "execution_count": 58,
   "id": "90807cc9-a1ad-4f76-803d-eb5d5d1c4b12",
   "metadata": {},
   "outputs": [],
   "source": [
    "def tsnescatterplot(model, word, list_names):\n",
    "    import numpy as np\n",
    "    import matplotlib.pyplot as plt\n",
    "    from sklearn.manifold import TSNE\n",
    "    import seaborn as sns\n",
    "\n",
    "    # Initialiser un tableau vide avec la bonne dimension\n",
    "    arrays = np.empty((0, model.vector_size))\n",
    "    word_labels = []\n",
    "    color_list = []\n",
    "\n",
    "    # Ajouter le vecteur du mot principal\n",
    "    arrays = np.vstack([arrays, model.wv[word]])\n",
    "    word_labels.append(word)\n",
    "    color_list.append('red')\n",
    "\n",
    "    # Ajouter les mots proches\n",
    "    close_words = model.wv.most_similar([word])\n",
    "    for wrd, _ in close_words:\n",
    "        word_labels.append(wrd)\n",
    "        color_list.append('orange')\n",
    "        arrays = np.vstack([arrays, model.wv[wrd]])\n",
    "\n",
    "    # Ajouter les mots supplémentaires spécifiés\n",
    "    for wrd in list_names:\n",
    "        if wrd in model.wv:\n",
    "            word_labels.append(wrd)\n",
    "            color_list.append('green')\n",
    "            arrays = np.vstack([arrays, model.wv[wrd]])\n",
    "\n",
    "    # Réduction de dimension avec t-SNE\n",
    "    tsne = TSNE(n_components=2, random_state=0, perplexity=3)\n",
    "    Y = tsne.fit_transform(arrays)\n",
    "\n",
    "    # Mise en DataFrame pour affichage\n",
    "    df = pd.DataFrame({\n",
    "        \"x\": Y[:, 0],\n",
    "        \"y\": Y[:, 1],\n",
    "        \"words\": word_labels,\n",
    "        \"color\": color_list\n",
    "    })\n",
    "\n",
    "    plt.figure(figsize=(14, 10))\n",
    "    sns.scatterplot(data=df, x=\"x\", y=\"y\", hue=\"color\", legend=False, s=100)\n",
    "\n",
    "    # Annoter chaque point\n",
    "    for i in range(df.shape[0]):\n",
    "        plt.text(df[\"x\"][i]+1, df[\"y\"][i]+1, df[\"words\"][i], fontsize=12)\n",
    "\n",
    "    plt.title(f\"t-SNE visualization for: '{word}'\")\n",
    "    plt.show()\n"
   ]
  },
  {
   "cell_type": "markdown",
   "id": "7a20987b-97ba-4462-a825-396ded1728de",
   "metadata": {},
   "source": [
    "10 mots les plus similaires contre 8 mots aléatoires"
   ]
  },
  {
   "cell_type": "code",
   "execution_count": 59,
   "id": "37691379-d795-4e9d-8536-faacc575d11c",
   "metadata": {},
   "outputs": [
    {
     "data": {
      "image/png": "[encoded data removed]",
      "text/plain": [
       "<Figure size 1400x1000 with 1 Axes>"
      ]
     },
     "metadata": {},
     "output_type": "display_data"
    }
   ],
   "source": [
    "tsnescatterplot(w2v_model, 'homer', ['dog', 'bird', 'ah', 'maude', 'bob', 'mel', 'apu', 'duff'])"
   ]
  },
  {
   "cell_type": "code",
   "execution_count": null,
   "id": "db309857-b855-42fa-8f84-76cc27ca2434",
   "metadata": {},
   "outputs": [],
   "source": []
  },
  {
   "cell_type": "code",
   "execution_count": null,
   "id": "5f393712-fa18-413a-aeaf-0fc7650e9f8b",
   "metadata": {},
   "outputs": [],
   "source": []
  }
 ],
 "metadata": {
  "kernelspec": {
   "display_name": "Python (venv_simpson)",
   "language": "python",
   "name": "venv_simpson"
  },
  "language_info": {
   "codemirror_mode": {
    "name": "ipython",
    "version": 3
   },
   "file_extension": ".py",
   "mimetype": "text/x-python",
   "name": "python",
   "nbconvert_exporter": "python",
   "pygments_lexer": "ipython3",
   "version": "3.11.4"
  }
 },
 "nbformat": 4,
 "nbformat_minor": 5
}
